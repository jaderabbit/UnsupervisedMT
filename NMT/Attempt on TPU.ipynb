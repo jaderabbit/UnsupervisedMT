{
 "cells": [
  {
   "cell_type": "code",
   "execution_count": 3,
   "metadata": {},
   "outputs": [
    {
     "name": "stdout",
     "output_type": "stream",
     "text": [
      "/bin/sh: 1: conda: not found\n",
      "\n",
      "===== Input parameters =====\n",
      " TARGET       : \n",
      " MONO_DATASET : en:./data/mono/mono.en.tok.60000.pth,,;:./data/mono/mono..tok.60000.pth,,\n",
      " PARA_DATASET : en-:,./data/para/en.dev.en.60000.pth,./data/para/en.dev..60000.pth\n",
      " PRETRAINED   : ./data/mono/all.en-.60000.vec\n",
      " \n",
      "Traceback (most recent call last):\n",
      "  File \"main.py\", line 12, in <module>\n",
      "    from src.data.loader import check_all_data_params, load_data\n",
      "  File \"/home/jade/UnsupervisedMT/NMT/src/data/loader.py\", line 10, in <module>\n",
      "    import torch\n",
      "ImportError: No module named 'torch'\n"
     ]
    }
   ],
   "source": [
    "!conda install pytorch\n",
    "!./run_unsupervised_nmt.sh"
   ]
  },
  {
   "cell_type": "code",
   "execution_count": null,
   "metadata": {},
   "outputs": [],
   "source": []
  }
 ],
 "metadata": {
  "kernelspec": {
   "display_name": "Python 3",
   "language": "python",
   "name": "python3"
  },
  "language_info": {
   "codemirror_mode": {
    "name": "ipython",
    "version": 3
   },
   "file_extension": ".py",
   "mimetype": "text/x-python",
   "name": "python",
   "nbconvert_exporter": "python",
   "pygments_lexer": "ipython3",
   "version": "3.5.3"
  }
 },
 "nbformat": 4,
 "nbformat_minor": 2
}
